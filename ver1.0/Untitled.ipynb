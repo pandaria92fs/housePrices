{
 "cells": [
  {
   "cell_type": "code",
   "execution_count": 77,
   "metadata": {},
   "outputs": [],
   "source": [
    "import numpy as np\n",
    "import pandas as pd\n",
    "from sklearn.feature_extraction.text import CountVectorizer\n",
    "from sklearn.model_selection import train_test_split\n",
    "from sklearn.naive_bayes import MultinomialNB\n",
    "import matplotlib.pyplot as plt \n",
    "import seaborn as sns\n",
    "color = sns.color_palette()\n",
    "sns.set_style('darkgrid')"
   ]
  },
  {
   "cell_type": "code",
   "execution_count": 156,
   "metadata": {},
   "outputs": [
    {
     "data": {
      "text/plain": [
       "LotFrontage    17.739726\n",
       "Alley          93.767123\n",
       "FireplaceQu    47.260274\n",
       "PoolQC         99.520548\n",
       "Fence          80.753425\n",
       "MiscFeature    96.301370\n",
       "dtype: float64"
      ]
     },
     "execution_count": 156,
     "metadata": {},
     "output_type": "execute_result"
    }
   ],
   "source": [
    "train_data = pd.read_csv('train.csv')\n",
    "test_data = pd.read_csv('test.csv')\n",
    "\n",
    "#train_data.PoolQC.not(\"NAN\")\n",
    "\n",
    "#test_data\n",
    "\n",
    "#all_data_na = (all_data.isnull().sum() / len(all_data)) * 100\n",
    "#all_data_na = all_data_na.drop(all_data_na[all_data_na == 0].index).sort_values(ascending=False)[:30]\n",
    "#missing_data = pd.DataFrame({'Missing Ratio' :all_data_na})\n",
    "\n",
    "missing_val=(train_data.isnull().sum()/len(train_data))*100\n",
    "missing_val = missing_val.drop(missing_val[missing_val ==0].index)\n",
    "#missing_some=missing_val.drop(missing_val[missing_val >15].index)\n",
    "missing_some=missing_val.drop(missing_val[missing_val >15].index)\n",
    "missing_alot=missing_val.drop(missing_val[missing_val <15].index)\n",
    "missing_alot\n",
    "#index_array = missing_val.index\n",
    "#train_ver1 = train_data\n",
    "#missing_alot=missing_some.drop(missing_some[missing_some <15].index)\n",
    "#missing_alot\n",
    "#missing_some\n",
    "\n",
    "\n",
    "\n",
    "#for i in index_array:\n",
    "    #train_ver1=train_ver1.drop(columns=[i])\n",
    "\n",
    "#corrmat = train_data.corr()\n",
    "#plt.subplots(figsize=(12,9))\n",
    "#sns.heatmap(corrmat, vmax=0.9, square=True)"
   ]
  },
  {
   "cell_type": "code",
   "execution_count": null,
   "metadata": {},
   "outputs": [],
   "source": []
  },
  {
   "cell_type": "code",
   "execution_count": null,
   "metadata": {},
   "outputs": [],
   "source": []
  },
  {
   "cell_type": "code",
   "execution_count": null,
   "metadata": {},
   "outputs": [],
   "source": []
  },
  {
   "cell_type": "code",
   "execution_count": null,
   "metadata": {},
   "outputs": [],
   "source": []
  },
  {
   "cell_type": "code",
   "execution_count": null,
   "metadata": {},
   "outputs": [],
   "source": []
  }
 ],
 "metadata": {
  "kernelspec": {
   "display_name": "Python 3",
   "language": "python",
   "name": "python3"
  },
  "language_info": {
   "codemirror_mode": {
    "name": "ipython",
    "version": 3
   },
   "file_extension": ".py",
   "mimetype": "text/x-python",
   "name": "python",
   "nbconvert_exporter": "python",
   "pygments_lexer": "ipython3",
   "version": "3.6.5"
  }
 },
 "nbformat": 4,
 "nbformat_minor": 2
}
